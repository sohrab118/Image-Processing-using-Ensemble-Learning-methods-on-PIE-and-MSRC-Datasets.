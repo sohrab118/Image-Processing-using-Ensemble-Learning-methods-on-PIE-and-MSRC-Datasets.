{
 "cells": [
  {
   "cell_type": "markdown",
   "metadata": {},
   "source": [
    "# Feature Extraction and Selection Final Project\n",
    "## Problem : Implement the SFS using wrapper method to find best subet of features.\n",
    "### Student name: Sohrab Pirhadi\n",
    "### Student Number: 984112"
   ]
  },
  {
   "cell_type": "markdown",
   "metadata": {},
   "source": [
    "## Importing Libraries"
   ]
  },
  {
   "cell_type": "code",
   "execution_count": 1,
   "metadata": {},
   "outputs": [],
   "source": [
    "import numpy as np\n",
    "from sklearn.model_selection import train_test_split\n",
    "from sklearn.neighbors import KNeighborsClassifier\n",
    "from sklearn.neighbors import KNeighborsClassifier\n",
    "from sklearn.metrics import f1_score\n",
    "from sklearn import metrics\n",
    "import matplotlib.pyplot as plt\n"
   ]
  },
  {
   "cell_type": "markdown",
   "metadata": {},
   "source": [
    "### Reading Dataset"
   ]
  },
  {
   "cell_type": "code",
   "execution_count": 2,
   "metadata": {},
   "outputs": [],
   "source": [
    "def readData(fname, pos_label):\n",
    "    with open(fname,'r') as ifile:\n",
    "\n",
    "        feat_vecs=[]\n",
    "        labels=[]\n",
    "        genes=[]\n",
    "        \n",
    "    \n",
    "        for ln in ifile: #ifile is a 103*2135 dataset\n",
    "            ln = ln.strip()\n",
    "           \n",
    "            ln=ln.split(' ') \n",
    "            if ln[0][0]=='y':\n",
    "                for l in ln[1:]: \n",
    "                    if l==pos_label:\n",
    "                        labels+=[1]\n",
    "                    else:\n",
    "                        labels+=[0]\n",
    "            else:    \n",
    "                vector=[]\n",
    "                for f in ln[1:]:\n",
    "                    vector+=[np.float(f)]\n",
    "                feat_vecs+=[vector]\n",
    "                genes+=[ln[0]]            \n",
    "            \n",
    "        return np.array(feat_vecs).T, np.array(labels), genes"
   ]
  },
  {
   "cell_type": "code",
   "execution_count": 3,
   "metadata": {},
   "outputs": [],
   "source": [
    "fname='prostate_preprocessed.txt'\n",
    "X,Y, genes=readData(fname, 'tumor')"
   ]
  },
  {
   "cell_type": "code",
   "execution_count": 4,
   "metadata": {},
   "outputs": [
    {
     "data": {
      "text/plain": [
       "(102, 2135)"
      ]
     },
     "execution_count": 4,
     "metadata": {},
     "output_type": "execute_result"
    }
   ],
   "source": [
    "X.shape"
   ]
  },
  {
   "cell_type": "markdown",
   "metadata": {},
   "source": [
    "### Rows are samples(102)"
   ]
  },
  {
   "cell_type": "code",
   "execution_count": 5,
   "metadata": {},
   "outputs": [
    {
     "data": {
      "text/plain": [
       "102"
      ]
     },
     "execution_count": 5,
     "metadata": {},
     "output_type": "execute_result"
    }
   ],
   "source": [
    "X.shape[0]"
   ]
  },
  {
   "cell_type": "code",
   "execution_count": 6,
   "metadata": {},
   "outputs": [
    {
     "data": {
      "text/plain": [
       "array([5.69059486, 5.88778316, 1.88879261, ..., 2.61453056, 1.26682453,\n",
       "       3.31255957])"
      ]
     },
     "execution_count": 6,
     "metadata": {},
     "output_type": "execute_result"
    }
   ],
   "source": [
    "X[0] #first row values(all features values for fisrt sample)"
   ]
  },
  {
   "cell_type": "markdown",
   "metadata": {},
   "source": [
    "### Columns are features(2135)"
   ]
  },
  {
   "cell_type": "code",
   "execution_count": 7,
   "metadata": {},
   "outputs": [
    {
     "data": {
      "text/plain": [
       "2135"
      ]
     },
     "execution_count": 7,
     "metadata": {},
     "output_type": "execute_result"
    }
   ],
   "source": [
    "len(genes)"
   ]
  },
  {
   "cell_type": "code",
   "execution_count": 8,
   "metadata": {},
   "outputs": [
    {
     "data": {
      "text/plain": [
       "2135"
      ]
     },
     "execution_count": 8,
     "metadata": {},
     "output_type": "execute_result"
    }
   ],
   "source": [
    "X.shape[1]"
   ]
  },
  {
   "cell_type": "code",
   "execution_count": 9,
   "metadata": {},
   "outputs": [
    {
     "data": {
      "text/plain": [
       "array([5.69059486, 2.75144902, 2.97493225, 2.92462381, 2.40580224,\n",
       "       2.69924703, 2.72922363, 2.78626611, 2.91442554, 2.63298442,\n",
       "       2.77227249, 7.41853756, 2.76734637, 2.84638365, 2.84363492,\n",
       "       2.6838544 , 2.85611693, 2.88934443, 5.57914022, 4.92343421,\n",
       "       2.93727671, 2.92318007, 5.06096788, 4.97599463, 2.96702689,\n",
       "       3.12483623, 3.58778154, 3.54195116, 2.83918049, 6.8158786 ,\n",
       "       8.40215971, 8.58654721, 6.31517933, 5.07114362, 6.4296921 ,\n",
       "       5.96774009, 2.66304582, 2.8646453 , 3.06585605, 7.12692964,\n",
       "       3.66904564, 3.02293729, 3.7806352 , 7.44054514, 8.30225607,\n",
       "       6.87547898, 8.07740019, 7.53167675, 7.61985332, 7.50999083,\n",
       "       7.63514068, 2.5954457 , 2.72118807, 4.65022047, 2.66356667,\n",
       "       3.34890768, 7.77294303, 2.41158379, 2.6997339 , 4.71831496,\n",
       "       2.93142878, 6.12353237, 2.8844526 , 2.73210744, 2.93292747,\n",
       "       3.82659936, 2.86266639, 5.13120074, 3.03126056, 3.7142558 ,\n",
       "       6.44649813, 2.7793152 , 5.99442885, 7.47969057, 4.53823543,\n",
       "       6.37964362, 7.88620273, 5.70636526, 3.06474704, 2.84422763,\n",
       "       6.33768405, 6.79668523, 3.89778742, 5.75437564, 6.96567591,\n",
       "       7.14038069, 5.48881668, 5.15777947, 6.17499408, 5.04365254,\n",
       "       4.85945299, 2.94382423, 6.08774962, 7.8517934 , 8.03350893,\n",
       "       7.59578056, 8.28538085, 6.77629759, 4.93489517, 6.62796322,\n",
       "       5.34399735, 7.44352321])"
      ]
     },
     "execution_count": 9,
     "metadata": {},
     "output_type": "execute_result"
    }
   ],
   "source": [
    "X[:,0] # first column values(first feature value for all samples)"
   ]
  },
  {
   "cell_type": "markdown",
   "metadata": {},
   "source": [
    "### Labels(102) "
   ]
  },
  {
   "cell_type": "code",
   "execution_count": 10,
   "metadata": {},
   "outputs": [
    {
     "data": {
      "text/plain": [
       "array([0, 0, 0, 0, 0, 0, 0, 0, 0, 0, 0, 0, 0, 0, 0, 0, 0, 0, 0, 0, 0, 0,\n",
       "       0, 0, 0, 0, 0, 0, 0, 0, 0, 0, 0, 0, 0, 0, 0, 0, 0, 0, 0, 0, 0, 0,\n",
       "       0, 0, 0, 0, 0, 0, 1, 1, 1, 1, 1, 1, 1, 1, 1, 1, 1, 1, 1, 1, 1, 1,\n",
       "       1, 1, 1, 1, 1, 1, 1, 1, 1, 1, 1, 1, 1, 1, 1, 1, 1, 1, 1, 1, 1, 1,\n",
       "       1, 1, 1, 1, 1, 1, 1, 1, 1, 1, 1, 1, 1, 1])"
      ]
     },
     "execution_count": 10,
     "metadata": {},
     "output_type": "execute_result"
    }
   ],
   "source": [
    "Y # 0 for Normal and 1 for tumor"
   ]
  },
  {
   "cell_type": "markdown",
   "metadata": {},
   "source": [
    "### splitting data into training and testing"
   ]
  },
  {
   "cell_type": "code",
   "execution_count": 11,
   "metadata": {},
   "outputs": [
    {
     "data": {
      "text/plain": [
       "(71,)"
      ]
     },
     "execution_count": 11,
     "metadata": {},
     "output_type": "execute_result"
    }
   ],
   "source": [
    "X_train,X_test,y_train,y_test = train_test_split(X,Y,test_size=0.3,random_state=101) #dividing with train test split\n",
    "y_train.shape"
   ]
  },
  {
   "cell_type": "code",
   "execution_count": 12,
   "metadata": {},
   "outputs": [
    {
     "data": {
      "text/plain": [
       "array([[2.8646453 ],\n",
       "       [2.75144902],\n",
       "       [3.7142558 ],\n",
       "       [6.33768405],\n",
       "       [2.94382423],\n",
       "       [6.12353237],\n",
       "       [6.96567591],\n",
       "       [4.65022047],\n",
       "       [8.28538085],\n",
       "       [6.31517933],\n",
       "       [2.72922363],\n",
       "       [2.7793152 ],\n",
       "       [7.44054514],\n",
       "       [2.85611693],\n",
       "       [7.63514068],\n",
       "       [8.58654721],\n",
       "       [5.48881668],\n",
       "       [2.84363492],\n",
       "       [3.12483623],\n",
       "       [2.5954457 ],\n",
       "       [2.92318007],\n",
       "       [2.92462381],\n",
       "       [5.75437564],\n",
       "       [2.41158379],\n",
       "       [7.61985332],\n",
       "       [7.53167675],\n",
       "       [2.84422763],\n",
       "       [2.6997339 ],\n",
       "       [2.97493225],\n",
       "       [2.84638365],\n",
       "       [6.87547898]])"
      ]
     },
     "execution_count": 12,
     "metadata": {},
     "output_type": "execute_result"
    }
   ],
   "source": [
    "X_test[:,0:1]"
   ]
  },
  {
   "cell_type": "code",
   "execution_count": 13,
   "metadata": {},
   "outputs": [
    {
     "data": {
      "text/plain": [
       "array([[2.8646453 ],\n",
       "       [2.75144902],\n",
       "       [3.7142558 ],\n",
       "       [6.33768405],\n",
       "       [2.94382423],\n",
       "       [6.12353237],\n",
       "       [6.96567591],\n",
       "       [4.65022047],\n",
       "       [8.28538085],\n",
       "       [6.31517933],\n",
       "       [2.72922363],\n",
       "       [2.7793152 ],\n",
       "       [7.44054514],\n",
       "       [2.85611693],\n",
       "       [7.63514068],\n",
       "       [8.58654721],\n",
       "       [5.48881668],\n",
       "       [2.84363492],\n",
       "       [3.12483623],\n",
       "       [2.5954457 ],\n",
       "       [2.92318007],\n",
       "       [2.92462381],\n",
       "       [5.75437564],\n",
       "       [2.41158379],\n",
       "       [7.61985332],\n",
       "       [7.53167675],\n",
       "       [2.84422763],\n",
       "       [2.6997339 ],\n",
       "       [2.97493225],\n",
       "       [2.84638365],\n",
       "       [6.87547898]])"
      ]
     },
     "execution_count": 13,
     "metadata": {},
     "output_type": "execute_result"
    }
   ],
   "source": [
    "X_test[:,0].reshape(-1,1)"
   ]
  },
  {
   "cell_type": "markdown",
   "metadata": {},
   "source": [
    "## ML algorithm used --> KNN"
   ]
  },
  {
   "cell_type": "code",
   "execution_count": 14,
   "metadata": {},
   "outputs": [],
   "source": [
    "knn = KNeighborsClassifier(n_neighbors=2) "
   ]
  },
  {
   "cell_type": "markdown",
   "metadata": {},
   "source": [
    "## Sequentioal Forward Selection "
   ]
  },
  {
   "cell_type": "code",
   "execution_count": 15,
   "metadata": {},
   "outputs": [
    {
     "name": "stdout",
     "output_type": "stream",
     "text": [
      "[[1969, 0.8749999999999999]]\n"
     ]
    }
   ],
   "source": [
    "kFeatures = 5\n",
    "featureSubset = []\n",
    "remainingFeatures = [x for x in  range(0,X.shape[1])]\n",
    "maxScore = 0\n",
    "maxIndex = -1\n",
    "for i in range(len(remainingFeatures)):\n",
    "        featureSubset = []\n",
    "        if(i not in featureSubset):\n",
    "            featureSubset.append(i)\n",
    "        else:\n",
    "            continue\n",
    "        knn = KNeighborsClassifier()\n",
    "        knn.fit(X_train[:,featureSubset].reshape(-1,1) , y_train)\n",
    "        predict = knn.predict(X_test[:,i].reshape(-1,1))\n",
    "        currentScore = f1_score(y_test, predict)\n",
    "        if currentScore > maxScore:\n",
    "            maxScore = currentScore\n",
    "            maxIndex = i\n",
    "        featureSubset.pop()\n",
    "featureSubset.append([maxIndex,maxScore])\n",
    "print(featureSubset)\n",
    "\n",
    "\n",
    "    "
   ]
  },
  {
   "cell_type": "code",
   "execution_count": 16,
   "metadata": {},
   "outputs": [
    {
     "name": "stdout",
     "output_type": "stream",
     "text": [
      "[[1969, 0.8749999999999999], [173, 0.9375]]\n",
      "[[1969, 0.8749999999999999], [173, 0.9375], [1800, 0.967741935483871]]\n",
      "[[1969, 0.8749999999999999], [173, 0.9375], [1800, 0.967741935483871], [62, 0.967741935483871]]\n",
      "[[1969, 0.8749999999999999], [173, 0.9375], [1800, 0.967741935483871], [62, 0.967741935483871], [30, 0.967741935483871]]\n"
     ]
    }
   ],
   "source": [
    "while len(featureSubset) < kFeatures:\n",
    "    maxScore = 0\n",
    "    maxIndex = -1\n",
    "    tempSubset = [x[0] for x in featureSubset]\n",
    "    for i in range(len(remainingFeatures)):\n",
    "        if(i not in tempSubset):\n",
    "            tempSubset.append(i)\n",
    "        else:\n",
    "            continue\n",
    "        knn = KNeighborsClassifier()\n",
    "        knn.fit(X_train[:,tempSubset] , y_train)\n",
    "        predict = knn.predict(X_test[:,tempSubset])\n",
    "        currentScore = f1_score(y_test, predict)\n",
    "        if currentScore > maxScore:\n",
    "            maxScore = currentScore\n",
    "            maxIndex = i\n",
    "        tempSubset.pop()\n",
    "    featureSubset.append([maxIndex,maxScore])\n",
    "    print(featureSubset)\n",
    "    \n",
    "        "
   ]
  },
  {
   "cell_type": "markdown",
   "metadata": {},
   "source": [
    "### Plotting The Reults"
   ]
  },
  {
   "cell_type": "code",
   "execution_count": 26,
   "metadata": {},
   "outputs": [
    {
     "data": {
      "text/plain": [
       "[0.8749999999999999,\n",
       " 0.9375,\n",
       " 0.967741935483871,\n",
       " 0.967741935483871,\n",
       " 0.967741935483871]"
      ]
     },
     "execution_count": 26,
     "metadata": {},
     "output_type": "execute_result"
    }
   ],
   "source": [
    "f_score = [item[1] for item in featureSubset]\n",
    "f_score"
   ]
  },
  {
   "cell_type": "code",
   "execution_count": 31,
   "metadata": {},
   "outputs": [
    {
     "data": {
      "text/plain": [
       "Text(0, 0.5, 'F1-Score')"
      ]
     },
     "execution_count": 31,
     "metadata": {},
     "output_type": "execute_result"
    },
    {
     "data": {
      "image/png": "[encoded data removed]",
      "text/plain": [
       "<Figure size 432x288 with 1 Axes>"
      ]
     },
     "metadata": {
      "needs_background": "light"
     },
     "output_type": "display_data"
    }
   ],
   "source": [
    "plt.plot([1,2,3,4,5],f_score, 'ro')\n",
    "plt.xlabel('Number of Features')\n",
    "plt.ylabel('F1-Score')\n"
   ]
  },
  {
   "cell_type": "markdown",
   "metadata": {},
   "source": [
    "## Selected Genes"
   ]
  },
  {
   "cell_type": "code",
   "execution_count": 28,
   "metadata": {},
   "outputs": [
    {
     "data": {
      "text/plain": [
       "[1969, 173, 1800, 62, 30]"
      ]
     },
     "execution_count": 28,
     "metadata": {},
     "output_type": "execute_result"
    }
   ],
   "source": [
    "features_index = [item[0] for item in featureSubset]\n",
    "features_index"
   ]
  },
  {
   "cell_type": "code",
   "execution_count": 29,
   "metadata": {},
   "outputs": [
    {
     "name": "stdout",
     "output_type": "stream",
     "text": [
      "41706_at\n",
      "1944_f_at\n",
      "40755_at\n",
      "1366_i_at\n",
      "1218_at\n"
     ]
    }
   ],
   "source": [
    "for index in features_index:\n",
    "    print(genes[index])"
   ]
  },
  {
   "cell_type": "code",
   "execution_count": null,
   "metadata": {},
   "outputs": [],
   "source": []
  }
 ],
 "metadata": {
  "kernelspec": {
   "display_name": "Python 3",
   "language": "python",
   "name": "python3"
  },
  "language_info": {
   "codemirror_mode": {
    "name": "ipython",
    "version": 3
   },
   "file_extension": ".py",
   "mimetype": "text/x-python",
   "name": "python",
   "nbconvert_exporter": "python",
   "pygments_lexer": "ipython3",
   "version": "3.7.3"
  }
 },
 "nbformat": 4,
 "nbformat_minor": 2
}
